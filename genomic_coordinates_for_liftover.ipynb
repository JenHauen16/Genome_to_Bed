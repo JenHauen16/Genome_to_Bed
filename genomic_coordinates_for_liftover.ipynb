{
 "cells": [
  {
   "cell_type": "markdown",
   "metadata": {},
   "source": [
    "Example script to change the formatting of genomic coordinates to obtain a different genome's coordinates with UCSC's Liftover tool. The starting_coordinates are OGT FISH probe locations with their gene names and color."
   ]
  },
  {
   "cell_type": "code",
   "execution_count": null,
   "metadata": {},
   "outputs": [],
   "source": [
    "starting_coordinates = [\"9: 133,860,602-134,273,127 Texas Red \",\"6: 18,038,677-18,425,914 FITC\", \n",
    "        \"3: 169,492,894-169,651,245 Texas Red \",\"3: 168,744,091 168,925,080 FITC \",\n",
    "        \"3: 167,686,809- 168,249,466 Aqua\", \"11: 3852434-3984370 Texas Red \",\n",
    "        \"11: 3267187-3417791 FITC\", \"9: 133481545- 133827393 Texas Red \",\n",
    "        \"22: 23342060-23511211 FITC \", \"22: 23921657-24069467 FITC \", \"9: 133223061-133396083 Aqua\",\n",
    "        \"12: 11,728,311-11,908,365 Texas Red\", \"12: 12,055,716-12,223,558 Texas Red\",\n",
    "        \"21: 35,988,338-36,144,773 FITC\", \"21: 36,304,194-36,473,570 FITC\"\n",
    "       ]"
   ]
  },
  {
   "cell_type": "code",
   "execution_count": null,
   "metadata": {},
   "outputs": [],
   "source": [
    "genes = [\"NUP214\", \"DEK\", \"MECOM\", \"MECOM\", \"MECOM\", \"NUP98\", \"NUP98\",\n",
    "        \"ABL1_plus\", \"BCR_plus\", \"BCR_plus\", \"ASS1_plus\", \"ETV6\", \"ETV6\", \"RUNX1\", \"RUNX1\"]"
   ]
  },
  {
   "cell_type": "markdown",
   "metadata": {},
   "source": [
    "The function formats the genomic locations and then splits the locations and color into 2 lists."
   ]
  },
  {
   "cell_type": "code",
   "execution_count": null,
   "metadata": {},
   "outputs": [],
   "source": [
    "coordinates = []\n",
    "color = []\n",
    "def format_coor(coor):\n",
    "    c = []\n",
    "    for loc in coor:\n",
    "        ch = \"chr\" + loc\n",
    "        rm = ch.replace(\" \", \"\").replace(\",\", \"\")\n",
    "        if \"TexasRed\" in rm:\n",
    "            r = rm.replace(\"TexasRed\", \" Red\")\n",
    "            c.append(r)\n",
    "        elif \"FITC\" in rm:\n",
    "            g = rm.replace(\"FITC\", \" Green\")\n",
    "            c.append(g)\n",
    "        else:\n",
    "            srm = rm.replace(\"Aqua\", \" Aqua\")\n",
    "            c.append(srm)\n",
    "    for i in c:\n",
    "        spl = i.split(\" \")\n",
    "        coordinates.append(spl[0])\n",
    "        color.append(spl[1])\n"
   ]
  },
  {
   "cell_type": "code",
   "execution_count": null,
   "metadata": {},
   "outputs": [],
   "source": [
    "format_coor(starting_coordinates)"
   ]
  },
  {
   "cell_type": "code",
   "execution_count": null,
   "metadata": {},
   "outputs": [],
   "source": [
    "for x in coordinates:\n",
    "    print(x)"
   ]
  },
  {
   "cell_type": "markdown",
   "metadata": {},
   "source": [
    "Copy list into UCSC's Liftover tool(https://genome.ucsc.edu/cgi-bin/hgLiftOver) and obtain new genome version coordinates. \n",
    "\n",
    "Create Python list of new coordinates."
   ]
  },
  {
   "cell_type": "code",
   "execution_count": null,
   "metadata": {},
   "outputs": [],
   "source": [
    "lift_over_results = [\"chr9:130985215-131397740\",\"chr6:18038446-18425683\", \"chr3:169775106-169933457\",\n",
    "                     \"chr3:169026303-169207292\",\n",
    "                        \"chr3:167969021-168531678\", \"chr11:3831204-3963140\", \"chr11:3245957-3396561\",\n",
    "                        \"chr9:130606158-130952006\", \"chr22:22999893-23169024\",\n",
    "                        \"chr22:23579470-23727280\", \"chr9:130347674-130520696\", \"chr12:11575377-11755431\",\n",
    "                        \"chr12:11902782-12070624\", \"chr21:34616039-34772476\",\"chr21:34931897-35101273\"]"
   ]
  },
  {
   "cell_type": "markdown",
   "metadata": {},
   "source": [
    "Create a continuous string of genes and colors"
   ]
  },
  {
   "cell_type": "code",
   "execution_count": null,
   "metadata": {},
   "outputs": [],
   "source": [
    "zip_genes_colors = list(zip(genes, color))\n",
    "genes_and_colors = []\n",
    "for x in zip_genes_colors:\n",
    "    c = x[0] + \"_\" + x[1]\n",
    "    genes_and_colors.append(c)\n",
    "genes_and_colors\n",
    "    "
   ]
  },
  {
   "cell_type": "markdown",
   "metadata": {},
   "source": [
    "String together new genomic coordinates and genes_and_colors."
   ]
  },
  {
   "cell_type": "code",
   "execution_count": null,
   "metadata": {},
   "outputs": [],
   "source": [
    "results_zip = list(zip(lift_over_results, genes_and_colors))\n",
    "concat = []\n",
    "for i in results_zip:\n",
    "    g = i[0] + \" \" + i[1]\n",
    "    concat.append(g)\n",
    "for y in concat:\n",
    "    print(y)"
   ]
  },
  {
   "cell_type": "markdown",
   "metadata": {},
   "source": [
    "Create BED format for loading into various software"
   ]
  },
  {
   "cell_type": "code",
   "execution_count": null,
   "metadata": {},
   "outputs": [],
   "source": [
    "bed = []\n",
    "for x in concat:\n",
    "    r = x.replace(\":\",\"\\t\").replace(\"-\", \"\\t\").replace(\" \", \"\\t\")\n",
    "    bed.append(r)"
   ]
  },
  {
   "cell_type": "markdown",
   "metadata": {},
   "source": [
    "Save to file"
   ]
  },
  {
   "cell_type": "code",
   "execution_count": null,
   "metadata": {},
   "outputs": [],
   "source": [
    "file = open(\"bed_creation.bed\", \"w\")\n",
    "for b in bed:\n",
    "    br = b + \"\\r\"\n",
    "    file.write(br)\n",
    "file.close()"
   ]
  }
 ],
 "metadata": {
  "kernelspec": {
   "display_name": "Python 3",
   "language": "python",
   "name": "python3"
  },
  "language_info": {
   "codemirror_mode": {
    "name": "ipython",
    "version": 3
   },
   "file_extension": ".py",
   "mimetype": "text/x-python",
   "name": "python",
   "nbconvert_exporter": "python",
   "pygments_lexer": "ipython3",
   "version": "3.7.3"
  }
 },
 "nbformat": 4,
 "nbformat_minor": 4
}
